{
 "cells": [
  {
   "cell_type": "code",
   "execution_count": 1,
   "metadata": {},
   "outputs": [],
   "source": [
    "# Analysis on Covid-vaccine uptake/ Vaccine hesitancy\n",
    "# Import libraries\n",
    "import pandas as pd\n",
    "import matplotlib.pyplot as plt\n",
    "import seaborn as sns\n",
    "import plotly.express as px\n",
    "import numpy as np"
   ]
  },
  {
   "cell_type": "code",
   "execution_count": 2,
   "metadata": {},
   "outputs": [
    {
     "data": {
      "text/html": [
       "<div>\n",
       "<style scoped>\n",
       "    .dataframe tbody tr th:only-of-type {\n",
       "        vertical-align: middle;\n",
       "    }\n",
       "\n",
       "    .dataframe tbody tr th {\n",
       "        vertical-align: top;\n",
       "    }\n",
       "\n",
       "    .dataframe thead th {\n",
       "        text-align: right;\n",
       "    }\n",
       "</style>\n",
       "<table border=\"1\" class=\"dataframe\">\n",
       "  <thead>\n",
       "    <tr style=\"text-align: right;\">\n",
       "      <th></th>\n",
       "      <th>studysite</th>\n",
       "      <th>gender</th>\n",
       "      <th>age</th>\n",
       "      <th>marital_status</th>\n",
       "      <th>education</th>\n",
       "      <th>employed</th>\n",
       "      <th>diabetes</th>\n",
       "      <th>hypertension</th>\n",
       "      <th>heart_disease</th>\n",
       "      <th>high_cholestrol</th>\n",
       "      <th>...</th>\n",
       "      <th>tv_Radio</th>\n",
       "      <th>internet</th>\n",
       "      <th>social_media</th>\n",
       "      <th>hcp</th>\n",
       "      <th>family_members</th>\n",
       "      <th>government</th>\n",
       "      <th>pharmaceutical</th>\n",
       "      <th>scientific articles</th>\n",
       "      <th>don't_trust</th>\n",
       "      <th>VaccineStatus</th>\n",
       "    </tr>\n",
       "  </thead>\n",
       "  <tbody>\n",
       "    <tr>\n",
       "      <th>0</th>\n",
       "      <td>faith</td>\n",
       "      <td>Female</td>\n",
       "      <td>27.0</td>\n",
       "      <td>Others</td>\n",
       "      <td>Undergraduate</td>\n",
       "      <td>Employed / Self Employed</td>\n",
       "      <td>Unchecked</td>\n",
       "      <td>Unchecked</td>\n",
       "      <td>Unchecked</td>\n",
       "      <td>Unchecked</td>\n",
       "      <td>...</td>\n",
       "      <td>Unchecked</td>\n",
       "      <td>Unchecked</td>\n",
       "      <td>Unchecked</td>\n",
       "      <td>Unchecked</td>\n",
       "      <td>Unchecked</td>\n",
       "      <td>Unchecked</td>\n",
       "      <td>Unchecked</td>\n",
       "      <td>Unchecked</td>\n",
       "      <td>Checked</td>\n",
       "      <td>0</td>\n",
       "    </tr>\n",
       "    <tr>\n",
       "      <th>1</th>\n",
       "      <td>faith</td>\n",
       "      <td>Female</td>\n",
       "      <td>28.0</td>\n",
       "      <td>Single</td>\n",
       "      <td>Diploma</td>\n",
       "      <td>Employed / Self Employed</td>\n",
       "      <td>Unchecked</td>\n",
       "      <td>Unchecked</td>\n",
       "      <td>Unchecked</td>\n",
       "      <td>Unchecked</td>\n",
       "      <td>...</td>\n",
       "      <td>Unchecked</td>\n",
       "      <td>Unchecked</td>\n",
       "      <td>Unchecked</td>\n",
       "      <td>Checked</td>\n",
       "      <td>Unchecked</td>\n",
       "      <td>Unchecked</td>\n",
       "      <td>Unchecked</td>\n",
       "      <td>Unchecked</td>\n",
       "      <td>Unchecked</td>\n",
       "      <td>0</td>\n",
       "    </tr>\n",
       "    <tr>\n",
       "      <th>2</th>\n",
       "      <td>faith</td>\n",
       "      <td>Female</td>\n",
       "      <td>26.0</td>\n",
       "      <td>Married</td>\n",
       "      <td>School Education</td>\n",
       "      <td>Unemployed</td>\n",
       "      <td>Unchecked</td>\n",
       "      <td>Unchecked</td>\n",
       "      <td>Unchecked</td>\n",
       "      <td>Unchecked</td>\n",
       "      <td>...</td>\n",
       "      <td>Checked</td>\n",
       "      <td>Unchecked</td>\n",
       "      <td>Unchecked</td>\n",
       "      <td>Unchecked</td>\n",
       "      <td>Unchecked</td>\n",
       "      <td>Unchecked</td>\n",
       "      <td>Unchecked</td>\n",
       "      <td>Unchecked</td>\n",
       "      <td>Unchecked</td>\n",
       "      <td>0</td>\n",
       "    </tr>\n",
       "  </tbody>\n",
       "</table>\n",
       "<p>3 rows × 57 columns</p>\n",
       "</div>"
      ],
      "text/plain": [
       "  studysite  gender   age marital_status         education  \\\n",
       "0     faith  Female  27.0         Others     Undergraduate   \n",
       "1     faith  Female  28.0         Single           Diploma   \n",
       "2     faith  Female  26.0        Married  School Education   \n",
       "\n",
       "                   employed   diabetes hypertension heart_disease  \\\n",
       "0  Employed / Self Employed  Unchecked    Unchecked     Unchecked   \n",
       "1  Employed / Self Employed  Unchecked    Unchecked     Unchecked   \n",
       "2                Unemployed  Unchecked    Unchecked     Unchecked   \n",
       "\n",
       "  high_cholestrol  ...   tv_Radio   internet social_media        hcp  \\\n",
       "0       Unchecked  ...  Unchecked  Unchecked    Unchecked  Unchecked   \n",
       "1       Unchecked  ...  Unchecked  Unchecked    Unchecked    Checked   \n",
       "2       Unchecked  ...    Checked  Unchecked    Unchecked  Unchecked   \n",
       "\n",
       "  family_members government pharmaceutical scientific articles don't_trust  \\\n",
       "0      Unchecked  Unchecked      Unchecked           Unchecked     Checked   \n",
       "1      Unchecked  Unchecked      Unchecked           Unchecked   Unchecked   \n",
       "2      Unchecked  Unchecked      Unchecked           Unchecked   Unchecked   \n",
       "\n",
       "  VaccineStatus  \n",
       "0             0  \n",
       "1             0  \n",
       "2             0  \n",
       "\n",
       "[3 rows x 57 columns]"
      ]
     },
     "execution_count": 2,
     "metadata": {},
     "output_type": "execute_result"
    }
   ],
   "source": [
    "data = pd.read_csv(\"data_no\")\n",
    "data.head(3)"
   ]
  },
  {
   "cell_type": "code",
   "execution_count": 3,
   "metadata": {},
   "outputs": [],
   "source": [
    "data = data.drop(columns=['VaccineStatus'])"
   ]
  },
  {
   "cell_type": "code",
   "execution_count": 4,
   "metadata": {},
   "outputs": [],
   "source": [
    "# set features to encode, by removing age and vaccine status columns\n",
    "data_4_edit = data.drop(['age', 'studysite'], axis=1)\n",
    "\n",
    "# features to encode\n",
    "data_4_features = data_4_edit\n",
    "\n",
    "# outcome\n",
    "data_4_outcome = data[['age','studysite']]"
   ]
  },
  {
   "cell_type": "code",
   "execution_count": 5,
   "metadata": {},
   "outputs": [],
   "source": [
    "from sklearn.preprocessing import OneHotEncoder\n",
    "\n",
    "# Initialize OneHotEncoder\n",
    "encoder = OneHotEncoder()\n",
    "\n",
    "# Fit and transform the data\n",
    "encoded_data_sparse = encoder.fit_transform(data_4_features)\n",
    "\n",
    "# Convert sparse matrix to a dense array\n",
    "encoded_data = encoded_data_sparse.toarray()\n",
    "\n",
    "# Convert to DataFrame\n",
    "encoded_df = pd.DataFrame(encoded_data, columns=encoder.get_feature_names_out(data_4_features.columns))"
   ]
  },
  {
   "cell_type": "code",
   "execution_count": 6,
   "metadata": {},
   "outputs": [],
   "source": [
    "data_5 = pd.concat([encoded_df,data_4_outcome.reset_index(drop=True)], axis=1)"
   ]
  },
  {
   "cell_type": "code",
   "execution_count": 7,
   "metadata": {},
   "outputs": [
    {
     "name": "stderr",
     "output_type": "stream",
     "text": [
      "C:\\Users\\Hp\\AppData\\Local\\Temp\\ipykernel_12232\\2908225324.py:7: FutureWarning: Downcasting behavior in `replace` is deprecated and will be removed in a future version. To retain the old behavior, explicitly call `result.infer_objects(copy=False)`. To opt-in to the future behavior, set `pd.set_option('future.no_silent_downcasting', True)`\n",
      "  data_5['studysite'] = data_5['studysite'].replace(study_site)\n"
     ]
    }
   ],
   "source": [
    "# group hospital names/ study site\n",
    "study_site = {\n",
    "    'private':1, \n",
    "    'faith':2,\n",
    "    'public':3\n",
    "}\n",
    "data_5['studysite'] = data_5['studysite'].replace(study_site)\n",
    "data_5['studysite'] = data_5['studysite'].astype('category')"
   ]
  },
  {
   "cell_type": "code",
   "execution_count": 8,
   "metadata": {},
   "outputs": [
    {
     "data": {
      "text/plain": [
       "education_School Education              0.247204\n",
       "job_worries_Unchecked                   0.243740\n",
       "job_worries_Checked                     0.243740\n",
       "free_citizens_Strongly Agree            0.238960\n",
       "recommend_family_Disagree               0.212767\n",
       "exposed_covid_Yes                       0.207391\n",
       "exposed_covid_No                        0.207391\n",
       "europe_america_Neutral                  0.206984\n",
       "rapidly_developed_Disagree              0.200815\n",
       "free_citizens_Disagree                  0.196818\n",
       "financial_worries_Checked               0.190299\n",
       "financial_worries_Unchecked             0.190299\n",
       "pay_privately_No                        0.187324\n",
       "free_citizens_Agree                     0.177388\n",
       "hesitant_side_effects_Strongly Agree    0.171321\n",
       "rapidly_developed_Strongly Agree        0.167127\n",
       "scientific articles_Unchecked           0.164391\n",
       "scientific articles_Checked             0.164391\n",
       "safe_vaccine_Neutral                    0.163422\n",
       "europe_america_Agree                    0.161137\n",
       "Name: studysite, dtype: float64"
      ]
     },
     "execution_count": 8,
     "metadata": {},
     "output_type": "execute_result"
    }
   ],
   "source": [
    "# Correlation between variables \n",
    "correlation = data_5.corr()\n",
    "\n",
    "corr = abs(correlation['studysite'])\n",
    "\n",
    "# Select highest correlating values\n",
    "co_Features = corr[corr>0.1]\n",
    "co_Features.drop(labels=['studysite'], inplace=True)\n",
    "co_Features.sort_values(ascending=False, inplace=True)\n",
    "co_Features.head(20)"
   ]
  },
  {
   "cell_type": "code",
   "execution_count": 9,
   "metadata": {},
   "outputs": [],
   "source": [
    "# Prepare input/target variables\n",
    "input = data_5.drop(['studysite'], axis=1)\n",
    "target = data_5['studysite'].values\n",
    "\n",
    "from sklearn.model_selection import train_test_split\n",
    "X = input\n",
    "y = target\n",
    "X_train, X_test, y_train, y_test = train_test_split(X,y, test_size=0.3)"
   ]
  },
  {
   "cell_type": "code",
   "execution_count": 10,
   "metadata": {},
   "outputs": [],
   "source": [
    "# SVM classifier\n",
    "from sklearn import svm\n",
    "clf = svm.SVC()\n",
    "clf = clf.fit(X_train, y_train)"
   ]
  },
  {
   "cell_type": "code",
   "execution_count": 11,
   "metadata": {},
   "outputs": [],
   "source": [
    "predictions = clf.predict(X_test)"
   ]
  },
  {
   "cell_type": "code",
   "execution_count": 12,
   "metadata": {},
   "outputs": [
    {
     "data": {
      "text/plain": [
       "0.5813333333333334"
      ]
     },
     "execution_count": 12,
     "metadata": {},
     "output_type": "execute_result"
    }
   ],
   "source": [
    "# Performance metrics\n",
    "from sklearn.metrics import accuracy_score\n",
    "accuracy_score(y_test, predictions)"
   ]
  },
  {
   "cell_type": "code",
   "execution_count": null,
   "metadata": {},
   "outputs": [],
   "source": []
  }
 ],
 "metadata": {
  "kernelspec": {
   "display_name": "Python 3",
   "language": "python",
   "name": "python3"
  },
  "language_info": {
   "codemirror_mode": {
    "name": "ipython",
    "version": 3
   },
   "file_extension": ".py",
   "mimetype": "text/x-python",
   "name": "python",
   "nbconvert_exporter": "python",
   "pygments_lexer": "ipython3",
   "version": "3.12.2"
  }
 },
 "nbformat": 4,
 "nbformat_minor": 2
}
